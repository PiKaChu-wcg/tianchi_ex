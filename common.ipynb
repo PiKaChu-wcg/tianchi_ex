{
  "nbformat": 4,
  "nbformat_minor": 0,
  "metadata": {
    "colab": {
      "name": "common.ipynb",
      "provenance": [],
      "collapsed_sections": [],
      "authorship_tag": "ABX9TyO8+VHVWdhfd4I62SGO7phL",
      "include_colab_link": true
    },
    "kernelspec": {
      "name": "python3",
      "display_name": "Python 3"
    },
    "language_info": {
      "name": "python"
    }
  },
  "cells": [
    {
      "cell_type": "markdown",
      "metadata": {
        "id": "view-in-github",
        "colab_type": "text"
      },
      "source": [
        "<a href=\"https://colab.research.google.com/github/PiKaChu-wcg/tianchi_ex/blob/main/common.ipynb\" target=\"_parent\"><img src=\"https://colab.research.google.com/assets/colab-badge.svg\" alt=\"Open In Colab\"/></a>"
      ]
    },
    {
      "cell_type": "markdown",
      "metadata": {
        "id": "uB0FBlnO2zmx"
      },
      "source": [
        "# 节约内存的通用函数"
      ]
    },
    {
      "cell_type": "code",
      "metadata": {
        "id": "NURkEpHW2uoZ"
      },
      "source": [
        "def reduce_mem(df):\n",
        "    starttime = time.time()\n",
        "    numerics = ['int16', 'int32', 'int64', 'float16', 'float32', 'float64']\n",
        "    start_mem = df.memory_usage().sum() / 1024**2\n",
        "    for col in df.columns:\n",
        "        col_type = df[col].dtypes\n",
        "        if col_type in numerics:\n",
        "            c_min = df[col].min()\n",
        "            c_max = df[col].max()\n",
        "            if pd.isnull(c_min) or pd.isnull(c_max):\n",
        "                continue\n",
        "            if str(col_type)[:3] == 'int':\n",
        "                if c_min > np.iinfo(np.int8).min and c_max < np.iinfo(np.int8).max:\n",
        "                    df[col] = df[col].astype(np.int8)\n",
        "                elif c_min > np.iinfo(np.int16).min and c_max < np.iinfo(np.int16).max:\n",
        "                    df[col] = df[col].astype(np.int16)\n",
        "                elif c_min > np.iinfo(np.int32).min and c_max < np.iinfo(np.int32).max:\n",
        "                    df[col] = df[col].astype(np.int32)\n",
        "                elif c_min > np.iinfo(np.int64).min and c_max < np.iinfo(np.int64).max:\n",
        "                    df[col] = df[col].astype(np.int64)\n",
        "            else:\n",
        "                if c_min > np.finfo(np.float16).min and c_max < np.finfo(np.float16).max:\n",
        "                    df[col] = df[col].astype(np.float16)\n",
        "                elif c_min > np.finfo(np.float32).min and c_max < np.finfo(np.float32).max:\n",
        "                    df[col] = df[col].astype(np.float32)\n",
        "                else:\n",
        "                    df[col] = df[col].astype(np.float64)\n",
        "    end_mem = df.memory_usage().sum() / 1024**2\n",
        "    print('-- Mem. usage decreased to {:5.2f} Mb ({:.1f}% reduction),time spend:{:2.2f} min'.format(end_mem,\n",
        "                                                                                                           100*(start_mem-end_mem)/start_mem,\n",
        "                                                                                                           (time.time()-starttime)/60))\n",
        "    return df"
      ],
      "execution_count": null,
      "outputs": []
    },
    {
      "cell_type": "markdown",
      "metadata": {
        "id": "RQW6SWv427Iw"
      },
      "source": [
        "# debug模式,从训练集中划出一部分数据来调试代码"
      ]
    },
    {
      "cell_type": "code",
      "metadata": {
        "id": "Vg6vD7Nc3CWK"
      },
      "source": [
        "# debug模式：从训练集中划出一部分数据来调试代码\n",
        "def get_all_click_sample(data_path, sample_nums=10000):\n",
        "    \"\"\"\n",
        "        训练集中采样一部分数据调试\n",
        "        data_path: 原数据的存储路径\n",
        "        sample_nums: 采样数目（这里由于机器的内存限制，可以采样用户做）\n",
        "    \"\"\"\n",
        "    all_click = pd.read_csv(data_path + 'train_click_log.csv')\n",
        "    all_user_ids = all_click.user_id.unique()\n",
        "\n",
        "    sample_user_ids = np.random.choice(all_user_ids, size=sample_nums, replace=False) \n",
        "    all_click = all_click[all_click['user_id'].isin(sample_user_ids)]\n",
        "    \n",
        "    all_click = all_click.drop_duplicates((['user_id', 'click_article_id', 'click_timestamp']))\n",
        "    return all_click\n",
        "\n",
        "# 读取点击数据，这里分成线上和线下，如果是为了获取线上提交结果应该讲测试集中的点击数据合并到总的数据中\n",
        "# 如果是为了线下验证模型的有效性或者特征的有效性，可以只使用训练集\n",
        "def get_all_click_df(data_path='./data_raw/', offline=True):\n",
        "    if offline:\n",
        "        all_click = pd.read_csv(data_path + 'train_click_log.csv')\n",
        "    else:\n",
        "        trn_click = pd.read_csv(data_path + 'train_click_log.csv')\n",
        "        tst_click = pd.read_csv(data_path + 'testA_click_log.csv')\n",
        "\n",
        "        all_click = trn_click.append(tst_click)\n",
        "    \n",
        "    all_click = all_click.drop_duplicates((['user_id', 'click_article_id', 'click_timestamp']))\n",
        "    return all_click\n",
        "\n",
        "all_click_df = get_all_click_df(data_path, offline=False)"
      ],
      "execution_count": null,
      "outputs": []
    }
  ]
}