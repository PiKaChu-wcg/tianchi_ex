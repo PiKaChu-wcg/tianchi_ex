{
  "nbformat": 4,
  "nbformat_minor": 0,
  "metadata": {
    "colab": {
      "name": "新闻推荐",
      "provenance": [],
      "collapsed_sections": [],
      "mount_file_id": "12AMfIDMK6ILb3hzZFhJkqk3T-Q55Kdro",
      "authorship_tag": "ABX9TyPpUCA9FL3EfSXGRpIMi12h",
      "include_colab_link": true
    },
    "kernelspec": {
      "name": "python3",
      "display_name": "Python 3"
    },
    "language_info": {
      "name": "python"
    }
  },
  "cells": [
    {
      "cell_type": "markdown",
      "metadata": {
        "id": "view-in-github",
        "colab_type": "text"
      },
      "source": [
        "<a href=\"https://colab.research.google.com/github/PiKaChu-wcg/tianchi_ex/blob/main/%E6%96%B0%E9%97%BB%E6%8E%A8%E8%8D%90.ipynb\" target=\"_parent\"><img src=\"https://colab.research.google.com/assets/colab-badge.svg\" alt=\"Open In Colab\"/></a>"
      ]
    },
    {
      "cell_type": "code",
      "metadata": {
        "id": "tpxOvkcZ3jIq"
      },
      "source": [
        "! cp /content/drive/MyDrive/dataset/tianchi/news_recommender/* ./"
      ],
      "execution_count": null,
      "outputs": []
    },
    {
      "cell_type": "code",
      "metadata": {
        "id": "6-U9heLN37ym"
      },
      "source": [
        "# import packages\n",
        "import time, math, os\n",
        "from tqdm import tqdm\n",
        "import gc\n",
        "import pickle\n",
        "import random\n",
        "from datetime import datetime\n",
        "from operator import itemgetter\n",
        "import numpy as np\n",
        "import pandas as pd\n",
        "import warnings\n",
        "from collections import defaultdict\n",
        "import collections\n",
        "warnings.filterwarnings('ignore')"
      ],
      "execution_count": null,
      "outputs": []
    },
    {
      "cell_type": "markdown",
      "metadata": {
        "id": "MUVoUU0Z2BIy"
      },
      "source": [
        "## 节省内存的一个函数 "
      ]
    },
    {
      "cell_type": "code",
      "metadata": {
        "id": "klp5Mvrm0ivh"
      },
      "source": [
        "def reduce_mem(df):\n",
        "    starttime = time.time()\n",
        "    numerics = ['int16', 'int32', 'int64', 'float16', 'float32', 'float64']\n",
        "    start_mem = df.memory_usage().sum() / 1024**2\n",
        "    for col in df.columns:\n",
        "        col_type = df[col].dtypes\n",
        "        if col_type in numerics:\n",
        "            c_min = df[col].min()\n",
        "            c_max = df[col].max()\n",
        "            if pd.isnull(c_min) or pd.isnull(c_max):\n",
        "                continue\n",
        "            if str(col_type)[:3] == 'int':\n",
        "                if c_min > np.iinfo(np.int8).min and c_max < np.iinfo(np.int8).max:\n",
        "                    df[col] = df[col].astype(np.int8)\n",
        "                elif c_min > np.iinfo(np.int16).min and c_max < np.iinfo(np.int16).max:\n",
        "                    df[col] = df[col].astype(np.int16)\n",
        "                elif c_min > np.iinfo(np.int32).min and c_max < np.iinfo(np.int32).max:\n",
        "                    df[col] = df[col].astype(np.int32)\n",
        "                elif c_min > np.iinfo(np.int64).min and c_max < np.iinfo(np.int64).max:\n",
        "                    df[col] = df[col].astype(np.int64)\n",
        "            else:\n",
        "                if c_min > np.finfo(np.float16).min and c_max < np.finfo(np.float16).max:\n",
        "                    df[col] = df[col].astype(np.float16)\n",
        "                elif c_min > np.finfo(np.float32).min and c_max < np.finfo(np.float32).max:\n",
        "                    df[col] = df[col].astype(np.float32)\n",
        "                else:\n",
        "                    df[col] = df[col].astype(np.float64)\n",
        "    end_mem = df.memory_usage().sum() / 1024**2\n",
        "    print('-- Mem. usage decreased to {:5.2f} Mb ({:.1f}% reduction),time spend:{:2.2f} min'.format(end_mem,\n",
        "                                                                                                           100*(start_mem-end_mem)/start_mem,\n",
        "                                                                                                           (time.time()-starttime)/60))\n",
        "    return df"
      ],
      "execution_count": null,
      "outputs": []
    },
    {
      "cell_type": "code",
      "metadata": {
        "id": "VsAWk0b82T9C"
      },
      "source": [
        "# debug模式：从训练集中划出一部分数据来调试代码\n",
        "def get_all_click_sample(data_path, sample_nums=10000):\n",
        "    \"\"\"\n",
        "        训练集中采样一部分数据调试\n",
        "        data_path: 原数据的存储路径\n",
        "        sample_nums: 采样数目（这里由于机器的内存限制，可以采样用户做）\n",
        "    \"\"\"\n",
        "    all_click = pd.read_csv(data_path + 'train_click_log.csv')\n",
        "    all_user_ids = all_click.user_id.unique()\n",
        "\n",
        "    sample_user_ids = np.random.choice(all_user_ids, size=sample_nums, replace=False) \n",
        "    all_click = all_click[all_click['user_id'].isin(sample_user_ids)]\n",
        "    \n",
        "    all_click = all_click.drop_duplicates((['user_id', 'click_article_id', 'click_timestamp']))\n",
        "    return all_click\n",
        "\n",
        "# 读取点击数据，这里分成线上和线下，如果是为了获取线上提交结果应该讲测试集中的点击数据合并到总的数据中\n",
        "# 如果是为了线下验证模型的有效性或者特征的有效性，可以只使用训练集\n",
        "def get_all_click_df(data_path='./data_raw/', offline=True):\n",
        "    if offline:\n",
        "        all_click = pd.read_csv(data_path + 'train_click_log.csv')\n",
        "    else:\n",
        "        trn_click = pd.read_csv(data_path + 'train_click_log.csv')\n",
        "        tst_click = pd.read_csv(data_path + 'testA_click_log.csv')\n",
        "\n",
        "        all_click = trn_click.append(tst_click)\n",
        "    \n",
        "    all_click = all_click.drop_duplicates((['user_id', 'click_article_id', 'click_timestamp']))\n",
        "    return all_click\n",
        "# all_click_df = get_all_click_df(data_path, offline=False)全量训练集"
      ],
      "execution_count": null,
      "outputs": []
    },
    {
      "cell_type": "code",
      "metadata": {
        "id": "DzFotNZP2jRC"
      },
      "source": [
        "df=get_all_click_sample('./')"
      ],
      "execution_count": null,
      "outputs": []
    },
    {
      "cell_type": "code",
      "metadata": {
        "id": "SEpnkBra9hNp"
      },
      "source": [
        "# 根据点击时间获取用户的点击文章序列   {user1: [(item1, time1), (item2, time2)..]...}\n",
        "def get_user_item_time(click_df):\n",
        "    \n",
        "    click_df = click_df.sort_values('click_timestamp')\n",
        "    \n",
        "    def make_item_time_pair(df):\n",
        "        return list(zip(df['click_article_id'], df['click_timestamp']))\n",
        "    \n",
        "    user_item_time_df = click_df.groupby('user_id')['click_article_id', 'click_timestamp'].apply(lambda x: make_item_time_pair(x))\\\n",
        "                                                            .reset_index().rename(columns={0: 'item_time_list'})\n",
        "    user_item_time_dict = dict(zip(user_item_time_df['user_id'], user_item_time_df['item_time_list']))\n",
        "    \n",
        "    return user_item_time_dict"
      ],
      "execution_count": null,
      "outputs": []
    },
    {
      "cell_type": "code",
      "metadata": {
        "id": "4eQiE5ZB4JFl"
      },
      "source": [
        "# 获取近期点击最多的文章\n",
        "def get_item_topk_click(click_df, k):\n",
        "    topk_click = click_df['click_article_id'].value_counts().index[:k]\n",
        "    return topk_click"
      ],
      "execution_count": null,
      "outputs": []
    },
    {
      "cell_type": "code",
      "metadata": {
        "colab": {
          "base_uri": "https://localhost:8080/",
          "height": 401
        },
        "id": "4iPJHPiH6s0d",
        "outputId": "a85490d6-3103-46a2-cc0f-b137812a6a2b"
      },
      "source": [
        ""
      ],
      "execution_count": null,
      "outputs": [
        {
          "output_type": "execute_result",
          "data": {
            "text/html": [
              "<div>\n",
              "<style scoped>\n",
              "    .dataframe tbody tr th:only-of-type {\n",
              "        vertical-align: middle;\n",
              "    }\n",
              "\n",
              "    .dataframe tbody tr th {\n",
              "        vertical-align: top;\n",
              "    }\n",
              "\n",
              "    .dataframe thead th {\n",
              "        text-align: right;\n",
              "    }\n",
              "</style>\n",
              "<table border=\"1\" class=\"dataframe\">\n",
              "  <thead>\n",
              "    <tr style=\"text-align: right;\">\n",
              "      <th></th>\n",
              "      <th>user_id</th>\n",
              "      <th>item_time_list</th>\n",
              "    </tr>\n",
              "  </thead>\n",
              "  <tbody>\n",
              "    <tr>\n",
              "      <th>0</th>\n",
              "      <td>11</td>\n",
              "      <td>[(50644, 1508211074535), (234481, 1508211104535)]</td>\n",
              "    </tr>\n",
              "    <tr>\n",
              "      <th>1</th>\n",
              "      <td>19</td>\n",
              "      <td>[(70986, 1508210833015), (205824, 1508210863015)]</td>\n",
              "    </tr>\n",
              "    <tr>\n",
              "      <th>2</th>\n",
              "      <td>52</td>\n",
              "      <td>[(211442, 1508209963658), (211455, 15082099936...</td>\n",
              "    </tr>\n",
              "    <tr>\n",
              "      <th>3</th>\n",
              "      <td>65</td>\n",
              "      <td>[(50644, 1508209562590), (83549, 1508209592590)]</td>\n",
              "    </tr>\n",
              "    <tr>\n",
              "      <th>4</th>\n",
              "      <td>67</td>\n",
              "      <td>[(5583, 1508209332189), (5595, 1508209362189)]</td>\n",
              "    </tr>\n",
              "    <tr>\n",
              "      <th>...</th>\n",
              "      <td>...</td>\n",
              "      <td>...</td>\n",
              "    </tr>\n",
              "    <tr>\n",
              "      <th>9995</th>\n",
              "      <td>199868</td>\n",
              "      <td>[(24764, 1507032616256), (162655, 150703271837...</td>\n",
              "    </tr>\n",
              "    <tr>\n",
              "      <th>9996</th>\n",
              "      <td>199899</td>\n",
              "      <td>[(156624, 1507030186766), (64329, 150703191914...</td>\n",
              "    </tr>\n",
              "    <tr>\n",
              "      <th>9997</th>\n",
              "      <td>199921</td>\n",
              "      <td>[(208077, 1507029731561), (207540, 15070297615...</td>\n",
              "    </tr>\n",
              "    <tr>\n",
              "      <th>9998</th>\n",
              "      <td>199946</td>\n",
              "      <td>[(299697, 1507029935719), (272143, 15070301706...</td>\n",
              "    </tr>\n",
              "    <tr>\n",
              "      <th>9999</th>\n",
              "      <td>199950</td>\n",
              "      <td>[(182513, 1507029999506), (272143, 15070303970...</td>\n",
              "    </tr>\n",
              "  </tbody>\n",
              "</table>\n",
              "<p>10000 rows × 2 columns</p>\n",
              "</div>"
            ],
            "text/plain": [
              "      user_id                                     item_time_list\n",
              "0          11  [(50644, 1508211074535), (234481, 1508211104535)]\n",
              "1          19  [(70986, 1508210833015), (205824, 1508210863015)]\n",
              "2          52  [(211442, 1508209963658), (211455, 15082099936...\n",
              "3          65   [(50644, 1508209562590), (83549, 1508209592590)]\n",
              "4          67     [(5583, 1508209332189), (5595, 1508209362189)]\n",
              "...       ...                                                ...\n",
              "9995   199868  [(24764, 1507032616256), (162655, 150703271837...\n",
              "9996   199899  [(156624, 1507030186766), (64329, 150703191914...\n",
              "9997   199921  [(208077, 1507029731561), (207540, 15070297615...\n",
              "9998   199946  [(299697, 1507029935719), (272143, 15070301706...\n",
              "9999   199950  [(182513, 1507029999506), (272143, 15070303970...\n",
              "\n",
              "[10000 rows x 2 columns]"
            ]
          },
          "metadata": {
            "tags": []
          },
          "execution_count": 37
        }
      ]
    },
    {
      "cell_type": "code",
      "metadata": {
        "colab": {
          "base_uri": "https://localhost:8080/"
        },
        "id": "-5F4LwI78Ace",
        "outputId": "abfee10f-b410-436e-d051-a81f9e6443ef"
      },
      "source": [
        "def itemcf_sim(df):\n",
        "    user_item_time_dict=get_user_item_time(df)\n",
        "    i2i_sim={}\n",
        "    item_cnt=defaultdict(int)\n",
        "    for user,item_time_list in tqdm(user_item_time_dict.items()):\n",
        "        for i ,i_click_time in item_time_list:\n",
        "            item_cnt[i]+=1\n",
        "            i2i_sim.setdefault(i,{})\n",
        "            for j,j_click_time in item_time_list:\n",
        "                if(i==j):\n",
        "                    continue\n",
        "                i2i_sim[i].setdefault(j,0)\n",
        "                i2i_sim[i][j]+=1/math.log(len(item_time_list)+1)\n",
        "    i2i_sim=i2i_sim.copy()\n",
        "    for i ,related_items in i2i_sim.items():\n",
        "        for j,wij in related_items.items():\n",
        "            i2i_sim[i][j]=wij/math.sqrt(item_cnt[i]*item_cnt[j])\n",
        "    pickle.dump(i2i_sim,open('itemcd_i2i_sim.pkl','wb'))\n",
        "itemcf_sim(df)  "
      ],
      "execution_count": null,
      "outputs": [
        {
          "output_type": "stream",
          "text": [
            "100%|██████████| 10000/10000 [00:00<00:00, 17236.45it/s]\n"
          ],
          "name": "stderr"
        }
      ]
    },
    {
      "cell_type": "code",
      "metadata": {
        "id": "5dswbxSWD5hy"
      },
      "source": [
        "def item_based_recommend(user_id,user_item_time_dict,i2i_sim,sim_item_topk,recall_item_num,item_topk_click):\n",
        "    user_hist_items=user_item_time_dict[user_id]\n",
        "    user_hist_items={(user_id ,time) for user_id ,time in user_hist_items}\n",
        "    item_rank={}\n",
        "    for loc,(i,click_time) in enumerate(user_hist_items):\n",
        "        for j,wij in  sorted(i2i_sim[i].items(),key=lambda x:x[1],reverse=True)[:sim_item_topk]:\n",
        "            if j in user_hist_items:\n",
        "                continue\n",
        "            item_rank.setdefault(j,0)\n",
        "            item_rank[j]+=wij\n",
        "    if len(item_rank)<recall_item_num:\n",
        "        for i ,item in enumerate(item_topk_click):\n",
        "            if item in item_rank.items():\n",
        "                continue\n",
        "            item_rank[item]=-i-100\n",
        "            if len(item_rank)==recall_item_num:\n",
        "                break\n",
        "    item_rank=sorted(item_rank.items(),key=lambda x:x[1],reverse=True)[:recall_item_num]\n",
        "    return item_rank"
      ],
      "execution_count": null,
      "outputs": []
    },
    {
      "cell_type": "code",
      "metadata": {
        "colab": {
          "base_uri": "https://localhost:8080/"
        },
        "id": "I68NOBtKD6jy",
        "outputId": "0c1348cd-ba50-45d7-b6c8-646732f73e03"
      },
      "source": [
        "# 定义\n",
        "user_recall_items_dict = collections.defaultdict(dict)\n",
        "\n",
        "# 获取 用户 - 文章 - 点击时间的字典\n",
        "user_item_time_dict = get_user_item_time(df)\n",
        "\n",
        "# 去取文章相似度\n",
        "i2i_sim = pickle.load(open('itemcf_i2i_sim.pkl', 'rb'))\n",
        "\n",
        "# 相似文章的数量\n",
        "sim_item_topk = 10\n",
        "\n",
        "# 召回文章数量\n",
        "recall_item_num = 10\n",
        "\n",
        "# 用户热度补全\n",
        "item_topk_click = get_item_topk_click(df, k=50)\n",
        "\n",
        "for user in tqdm(df['user_id'].unique()):\n",
        "    user_recall_items_dict[user] = item_based_recommend(user, user_item_time_dict, i2i_sim, \n",
        "                                                        sim_item_topk, recall_item_num, item_topk_click)"
      ],
      "execution_count": null,
      "outputs": [
        {
          "output_type": "stream",
          "text": [
            "100%|██████████| 10000/10000 [00:07<00:00, 1396.16it/s]\n"
          ],
          "name": "stderr"
        }
      ]
    },
    {
      "cell_type": "code",
      "metadata": {
        "colab": {
          "base_uri": "https://localhost:8080/"
        },
        "id": "NoH41KmxMbBf",
        "outputId": "7ebec305-3ede-4232-e628-235409aed7f6"
      },
      "source": [
        "user_item_score_list=[]\n",
        "for user,items in tqdm(user_recall_items_dict.items()):\n",
        "    for item,score in items:\n",
        "        user_item_score_list.append([user,item,score])\n",
        "recall_df=pd.DataFrame(user_item_score_list,columns=['user_id','click_article_id','pred_score'])"
      ],
      "execution_count": null,
      "outputs": [
        {
          "output_type": "stream",
          "text": [
            "100%|██████████| 10000/10000 [00:00<00:00, 62766.81it/s]\n"
          ],
          "name": "stderr"
        }
      ]
    },
    {
      "cell_type": "code",
      "metadata": {
        "colab": {
          "base_uri": "https://localhost:8080/",
          "height": 401
        },
        "id": "eWueUTOrMi7y",
        "outputId": "2693340d-773c-4781-e56c-591f5c4773d1"
      },
      "source": [
        ""
      ],
      "execution_count": null,
      "outputs": [
        {
          "output_type": "execute_result",
          "data": {
            "text/html": [
              "<div>\n",
              "<style scoped>\n",
              "    .dataframe tbody tr th:only-of-type {\n",
              "        vertical-align: middle;\n",
              "    }\n",
              "\n",
              "    .dataframe tbody tr th {\n",
              "        vertical-align: top;\n",
              "    }\n",
              "\n",
              "    .dataframe thead th {\n",
              "        text-align: right;\n",
              "    }\n",
              "</style>\n",
              "<table border=\"1\" class=\"dataframe\">\n",
              "  <thead>\n",
              "    <tr style=\"text-align: right;\">\n",
              "      <th></th>\n",
              "      <th>user_id</th>\n",
              "      <th>click_article_id</th>\n",
              "      <th>pred_score</th>\n",
              "    </tr>\n",
              "  </thead>\n",
              "  <tbody>\n",
              "    <tr>\n",
              "      <th>0</th>\n",
              "      <td>199921</td>\n",
              "      <td>96346</td>\n",
              "      <td>0.181668</td>\n",
              "    </tr>\n",
              "    <tr>\n",
              "      <th>1</th>\n",
              "      <td>199921</td>\n",
              "      <td>207540</td>\n",
              "      <td>0.156348</td>\n",
              "    </tr>\n",
              "    <tr>\n",
              "      <th>2</th>\n",
              "      <td>199921</td>\n",
              "      <td>61611</td>\n",
              "      <td>0.144996</td>\n",
              "    </tr>\n",
              "    <tr>\n",
              "      <th>3</th>\n",
              "      <td>199921</td>\n",
              "      <td>206735</td>\n",
              "      <td>0.137035</td>\n",
              "    </tr>\n",
              "    <tr>\n",
              "      <th>4</th>\n",
              "      <td>199921</td>\n",
              "      <td>159720</td>\n",
              "      <td>0.125740</td>\n",
              "    </tr>\n",
              "    <tr>\n",
              "      <th>...</th>\n",
              "      <td>...</td>\n",
              "      <td>...</td>\n",
              "      <td>...</td>\n",
              "    </tr>\n",
              "    <tr>\n",
              "      <th>99995</th>\n",
              "      <td>11</td>\n",
              "      <td>49282</td>\n",
              "      <td>0.108794</td>\n",
              "    </tr>\n",
              "    <tr>\n",
              "      <th>99996</th>\n",
              "      <td>11</td>\n",
              "      <td>30760</td>\n",
              "      <td>0.089076</td>\n",
              "    </tr>\n",
              "    <tr>\n",
              "      <th>99997</th>\n",
              "      <td>11</td>\n",
              "      <td>211442</td>\n",
              "      <td>0.082072</td>\n",
              "    </tr>\n",
              "    <tr>\n",
              "      <th>99998</th>\n",
              "      <td>11</td>\n",
              "      <td>156279</td>\n",
              "      <td>0.075689</td>\n",
              "    </tr>\n",
              "    <tr>\n",
              "      <th>99999</th>\n",
              "      <td>11</td>\n",
              "      <td>209122</td>\n",
              "      <td>0.074870</td>\n",
              "    </tr>\n",
              "  </tbody>\n",
              "</table>\n",
              "<p>100000 rows × 3 columns</p>\n",
              "</div>"
            ],
            "text/plain": [
              "       user_id  click_article_id  pred_score\n",
              "0       199921             96346    0.181668\n",
              "1       199921            207540    0.156348\n",
              "2       199921             61611    0.144996\n",
              "3       199921            206735    0.137035\n",
              "4       199921            159720    0.125740\n",
              "...        ...               ...         ...\n",
              "99995       11             49282    0.108794\n",
              "99996       11             30760    0.089076\n",
              "99997       11            211442    0.082072\n",
              "99998       11            156279    0.075689\n",
              "99999       11            209122    0.074870\n",
              "\n",
              "[100000 rows x 3 columns]"
            ]
          },
          "metadata": {
            "tags": []
          },
          "execution_count": 77
        }
      ]
    },
    {
      "cell_type": "code",
      "metadata": {
        "id": "I3nUDj5nQgSE"
      },
      "source": [
        "def submit(recall_df,topk=5,model_name=None):\n",
        "    recall_df=recall_df.sort_values(by=['user_id','pred_score'])\n",
        "    recall_df['rank']=recall_df.groupby(['user_id'])['pred_score'].rank(ascending=False,method='first')\n",
        "    # tmp=recall_df.groupby('user_id').apply(lambda x:x['rank'].max())\n",
        "    # assert tmp.min()>=topk\n",
        "    del recall_df['pred_score']\n",
        "    submit=recall_df[recall_df['rank']<=topk].set_index(['user_id','rank']).unstack(-1).reset_index()\n",
        "    save_name=model_name+\"_\"+datetime.today().strftime('%m-%d')+'.cvs'\n",
        "    submit.to_csv(save_name,index=False,header=True)\n"
      ],
      "execution_count": null,
      "outputs": []
    },
    {
      "cell_type": "code",
      "metadata": {
        "id": "k-hXGC8OeM32"
      },
      "source": [
        "tst_click = pd.read_csv('testA_click_log.csv')\n",
        "tst_users = tst_click['user_id'].unique()\n",
        "tst_recall = recall_df[recall_df['user_id'].isin(tst_users)]\n",
        "submit(tst_recall, topk=5, model_name='itemcf_baseline')"
      ],
      "execution_count": null,
      "outputs": []
    },
    {
      "cell_type": "code",
      "metadata": {
        "colab": {
          "base_uri": "https://localhost:8080/"
        },
        "id": "31_MrSBdeanG",
        "outputId": "3f134fd7-831e-4c04-e003-0f82a6564366"
      },
      "source": [
        "recall_df,tst_users"
      ],
      "execution_count": null,
      "outputs": [
        {
          "output_type": "execute_result",
          "data": {
            "text/plain": [
              "(       user_id  click_article_id  pred_score\n",
              " 0       199921             96346    0.181668\n",
              " 1       199921            207540    0.156348\n",
              " 2       199921             61611    0.144996\n",
              " 3       199921            206735    0.137035\n",
              " 4       199921            159720    0.125740\n",
              " ...        ...               ...         ...\n",
              " 99995       11             49282    0.108794\n",
              " 99996       11             30760    0.089076\n",
              " 99997       11            211442    0.082072\n",
              " 99998       11            156279    0.075689\n",
              " 99999       11            209122    0.074870\n",
              " \n",
              " [100000 rows x 3 columns],\n",
              " array([249999, 249998, 249997, ..., 200002, 200001, 200000]))"
            ]
          },
          "metadata": {
            "tags": []
          },
          "execution_count": 91
        }
      ]
    },
    {
      "cell_type": "code",
      "metadata": {
        "id": "Aa8Fc4xwfQDD"
      },
      "source": [
        ""
      ],
      "execution_count": null,
      "outputs": []
    }
  ]
}